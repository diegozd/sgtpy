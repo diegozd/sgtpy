{
 "cells": [
  {
   "cell_type": "markdown",
   "metadata": {},
   "source": [
    "# LLE calculation for fluid mixtures with SAFT-$\\gamma$-Mie\n",
    "\n",
    "In this notebook, LLE calculations with ```saftgammamie``` EoS are illustrated.\n",
    "\n",
    "First, all the needed modules are imported.\n",
    "\n",
    "- numpy: numerical interface and work with arrays.\n",
    "- matplotlib: to plot results.\n",
    "- ternary: plot ternary plots in python.\n",
    "- sgtpy: package with SAFT-$\\gamma$-Mie EoS and phase equilibria functions."
   ]
  },
  {
   "cell_type": "code",
   "execution_count": 1,
   "metadata": {},
   "outputs": [],
   "source": [
    "import numpy as np\n",
    "import matplotlib.pyplot as plt\n",
    "import ternary\n",
    "from sgtpy import component, mixture, saftgammamie\n",
    "from sgtpy.equilibrium import flash"
   ]
  },
  {
   "cell_type": "markdown",
   "metadata": {},
   "source": [
    "Now, pure components are configured and created with the ```component``` function. Then, a mixture is created with them using the ```mixture``` function or by adding (`+`) pure components. The interaction parameters are set up with the ```mixture.saftgammamie``` method. Finally, the ```eos``` object is created with the ```saftgammamie``` function.\n",
    "\n",
    "The ```eos``` object includes all the necessary methods to compute phase equilibria and interfacial properties using SAFT-$\\gamma$-Mie EoS.\n",
    "\n",
    "For this notebook, all calculations are exemplified for a mixture of butanol, water and hexane."
   ]
  },
  {
   "cell_type": "code",
   "execution_count": 2,
   "metadata": {},
   "outputs": [],
   "source": [
    "hexane = component(GC={'CH3':2, 'CH2':4})\n",
    "butanol = component(GC={'CH3':1, 'CH2':2, 'CH2OH':1})\n",
    "water = component(GC={'H2O':1})\n",
    "\n",
    "# creating mixture with mixture class function\n",
    "mix = mixture(butanol, water)\n",
    "mix.add_component(hexane)\n",
    "# or creating mixture by adding pure components\n",
    "mix = butanol + water + hexane\n",
    "\n",
    "mix.saftgammamie()\n",
    "eos = saftgammamie(mix)"
   ]
  },
  {
   "cell_type": "markdown",
   "metadata": {},
   "source": [
    "## LLE calculation\n",
    "\n",
    "This type of equilibria calculation is carried out at given global composition (z), temperature (K), and pressure (Pa). This calculation can be performed with ```flash``` or ```lle``` function.\n",
    "\n",
    "The flash calculation is carried out with the ```flash``` function and it requires initial guesses for the phase composition ```x0```, ```w0``` and their aggregation state (```LL``` for liquid/liquid equilibria).\n",
    "\n",
    "The ```lle``` requires initial guesses for the phase composition ```x0``` and ```w0```.\n",
    "\n",
    "The ```full_output``` option allows obtaining all the information related to the LLE calculation. This includes the volume of the phases and the solution for the fraction of the nonbonded sites of each phase."
   ]
  },
  {
   "cell_type": "code",
   "execution_count": 3,
   "metadata": {},
   "outputs": [
    {
     "ename": "ModuleNotFoundError",
     "evalue": "No module named 'SGTPy'",
     "output_type": "error",
     "traceback": [
      "\u001b[1;31m---------------------------------------------------------------------------\u001b[0m",
      "\u001b[1;31mModuleNotFoundError\u001b[0m                       Traceback (most recent call last)",
      "\u001b[1;32m<ipython-input-3-999225a5ee18>\u001b[0m in \u001b[0;36m<module>\u001b[1;34m\u001b[0m\n\u001b[1;32m----> 1\u001b[1;33m \u001b[1;32mfrom\u001b[0m \u001b[0mSGTPy\u001b[0m\u001b[1;33m.\u001b[0m\u001b[0mequilibrium\u001b[0m \u001b[1;32mimport\u001b[0m \u001b[0mlle\u001b[0m\u001b[1;33m\u001b[0m\u001b[1;33m\u001b[0m\u001b[0m\n\u001b[0m\u001b[0;32m      2\u001b[0m \u001b[1;31m# phase equilibria conditions\u001b[0m\u001b[1;33m\u001b[0m\u001b[1;33m\u001b[0m\u001b[1;33m\u001b[0m\u001b[0m\n\u001b[0;32m      3\u001b[0m \u001b[0mT\u001b[0m \u001b[1;33m=\u001b[0m \u001b[1;36m305.\u001b[0m  \u001b[1;31m# K\u001b[0m\u001b[1;33m\u001b[0m\u001b[1;33m\u001b[0m\u001b[0m\n\u001b[0;32m      4\u001b[0m \u001b[0mP\u001b[0m \u001b[1;33m=\u001b[0m \u001b[1;36m1.01325e5\u001b[0m  \u001b[1;31m# Pa\u001b[0m\u001b[1;33m\u001b[0m\u001b[1;33m\u001b[0m\u001b[0m\n\u001b[0;32m      5\u001b[0m \u001b[0mz\u001b[0m \u001b[1;33m=\u001b[0m \u001b[0mnp\u001b[0m\u001b[1;33m.\u001b[0m\u001b[0marray\u001b[0m\u001b[1;33m(\u001b[0m\u001b[1;33m[\u001b[0m\u001b[1;36m0.3\u001b[0m\u001b[1;33m,\u001b[0m \u001b[1;36m0.6\u001b[0m\u001b[1;33m,\u001b[0m \u001b[1;36m0.1\u001b[0m\u001b[1;33m]\u001b[0m\u001b[1;33m)\u001b[0m\u001b[1;33m\u001b[0m\u001b[1;33m\u001b[0m\u001b[0m\n",
      "\u001b[1;31mModuleNotFoundError\u001b[0m: No module named 'SGTPy'"
     ]
    }
   ],
   "source": [
    "from SGTPy.equilibrium import lle\n",
    "# phase equilibria conditions\n",
    "T = 305.  # K\n",
    "P = 1.01325e5  # Pa\n",
    "z = np.array([0.3, 0.6, 0.1])\n",
    "# initial guesses\n",
    "x0 = np.array([0.5, 0.2, 0.3])\n",
    "w0 = np.array([0.05, 0.9, 0.05])\n",
    "lle(x0, w0, z, T, P, eos, full_output=True)"
   ]
  },
  {
   "cell_type": "markdown",
   "metadata": {},
   "source": [
    "## Ternary diagram at constant pressure and temperature\n",
    "\n",
    "To compute a ternary LLE diagram it is recommended to compute LLE for the binary subsystems first. \n",
    "\n",
    "Then, depending on the diagram type (with or without a critical point), you can generate a global composition path to compute the LLE."
   ]
  },
  {
   "cell_type": "code",
   "execution_count": null,
   "metadata": {},
   "outputs": [],
   "source": [
    "n = 100 \n",
    "X = np.zeros([3, n])\n",
    "W = np.zeros([3, n])\n",
    "vx = np.zeros(n)\n",
    "vw = np.zeros(n)\n",
    "\n",
    "# LLE for butanol - water subsystem\n",
    "i = 0\n",
    "z1 = np.array([0.3, 0.7, 0.])\n",
    "x1 = np.array([0.4, 0.6, 0.])\n",
    "w1 = np.array([0.15, 0.85, 0.])\n",
    "sol = lle(x1, w1, z1, T, P, eos, full_output=True)\n",
    "X[:, i], W[:, i] = sol.X\n",
    "vx[i], vw[i] = sol.v\n",
    "sol"
   ]
  },
  {
   "cell_type": "code",
   "execution_count": null,
   "metadata": {},
   "outputs": [],
   "source": [
    "# LLE for water-hexane subsystem\n",
    "i = n-1\n",
    "z0 = np.array([0.0, 0.5, 0.5])\n",
    "x0 = np.array([0.0, 0.0, 1.0])\n",
    "w0 = np.array([0.0, 1.0, 0.0])\n",
    "\n",
    "sol = lle(x0, w0, z0, T, P, eos, full_output=True)\n",
    "X[:, i], W[:, i] = sol.X\n",
    "vx[i], vw[i] = sol.v\n",
    "sol"
   ]
  },
  {
   "cell_type": "code",
   "execution_count": null,
   "metadata": {},
   "outputs": [],
   "source": [
    "# generating global composition path\n",
    "i = 0\n",
    "z0 = (X[:, i] + W[:, i])/2\n",
    "i = -1\n",
    "z1 = (X[:, i] + W[:, i])/2\n",
    "Zs = np.linspace(z0, z1, n)\n",
    "\n",
    "# computing LLE using previous computed compositions and volumes as initial guesses\n",
    "for i in range(1, n-1):\n",
    "    sol = lle(X[:, i-1], W[:, i-1], Zs[i], T, P, eos, v0=[vx[i-1], vw[i-1]], full_output=True)\n",
    "    X[:, i], W[:, i] = sol.X\n",
    "    vx[i], vw[i] = sol.v\n",
    "    # print(i, sol.error_outer, sol.error_inner, sol.tetha, sol.iter)"
   ]
  },
  {
   "cell_type": "markdown",
   "metadata": {},
   "source": [
    "The results are plotted bellow."
   ]
  },
  {
   "cell_type": "code",
   "execution_count": null,
   "metadata": {},
   "outputs": [],
   "source": [
    "fig = plt.figure(figsize = (6,5))\n",
    "\n",
    "fontsize = 14\n",
    "ax3 = fig.add_subplot(111)\n",
    "tax = ternary.TernaryAxesSubplot(ax=ax3, scale = 1.0)\n",
    "tax.boundary(linewidth=1.0)\n",
    "tax.gridlines(color=\"black\", multiple=0.1, linewidth=0.5)\n",
    "\n",
    "tax.plot(X.T, color = \"r\")\n",
    "tax.plot(W.T, color = \"r\")\n",
    "# tax.plot(Zs, color = \"b\")\n",
    "\n",
    "for i in range(0, n, 10):\n",
    "    tax.plot([X[:, i], W[:, i]], linestyle='--', color='k')\n",
    "\n",
    "tax.ticks(clockwise=True, multiple=0.1, linewidth=1, offset = 0.03,tick_formats='%.1f')\n",
    "\n",
    "\n",
    "#Set labels\n",
    "tax.right_axis_label(r\"$x_{n-butanol}\\rightarrow$\", fontsize=fontsize, offset = 0.15)\n",
    "tax.left_axis_label(r\"$x_{water} \\rightarrow$\", fontsize=fontsize, offset = 0.15)\n",
    "tax.bottom_axis_label(r\"$\\leftarrow x_{hexane}$\", fontsize=fontsize, offset = 0.15)\n",
    "\n",
    "\n",
    "# Remove default Matplotlib Axes\n",
    "tax.clear_matplotlib_ticks()\n",
    "tax._redraw_labels()\n",
    "ternary.plt.axis('off')\n",
    "#fig.savefig('lle-ternary.pdf')"
   ]
  },
  {
   "cell_type": "markdown",
   "metadata": {},
   "source": [
    "For further information of any of these functions just run: ```function?```"
   ]
  },
  {
   "cell_type": "code",
   "execution_count": null,
   "metadata": {},
   "outputs": [],
   "source": []
  }
 ],
 "metadata": {
  "kernelspec": {
   "display_name": "Python 3",
   "language": "python",
   "name": "python3"
  },
  "language_info": {
   "codemirror_mode": {
    "name": "ipython",
    "version": 3
   },
   "file_extension": ".py",
   "mimetype": "text/x-python",
   "name": "python",
   "nbconvert_exporter": "python",
   "pygments_lexer": "ipython3",
   "version": "3.9.6"
  }
 },
 "nbformat": 4,
 "nbformat_minor": 4
}
